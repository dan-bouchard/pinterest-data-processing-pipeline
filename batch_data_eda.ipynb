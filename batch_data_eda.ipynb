{
 "cells": [
  {
   "cell_type": "markdown",
   "metadata": {},
   "source": [
    "# Batch Data EDA"
   ]
  },
  {
   "cell_type": "code",
   "execution_count": 1,
   "metadata": {},
   "outputs": [
    {
     "name": "stdout",
     "output_type": "stream",
     "text": [
      "<class 'list'>\n"
     ]
    }
   ],
   "source": [
    "import json\n",
    "with open('PinterestData_0.json') as json_file:\n",
    "    data = json.load(json_file)\n",
    "\n",
    "print(type(data))"
   ]
  },
  {
   "cell_type": "code",
   "execution_count": 6,
   "metadata": {},
   "outputs": [
    {
     "data": {
      "text/html": [
       "<div>\n",
       "<style scoped>\n",
       "    .dataframe tbody tr th:only-of-type {\n",
       "        vertical-align: middle;\n",
       "    }\n",
       "\n",
       "    .dataframe tbody tr th {\n",
       "        vertical-align: top;\n",
       "    }\n",
       "\n",
       "    .dataframe thead th {\n",
       "        text-align: right;\n",
       "    }\n",
       "</style>\n",
       "<table border=\"1\" class=\"dataframe\">\n",
       "  <thead>\n",
       "    <tr style=\"text-align: right;\">\n",
       "      <th></th>\n",
       "      <th>category</th>\n",
       "      <th>index</th>\n",
       "      <th>unique_id</th>\n",
       "      <th>title</th>\n",
       "      <th>description</th>\n",
       "      <th>follower_count</th>\n",
       "      <th>tag_list</th>\n",
       "      <th>is_image_or_video</th>\n",
       "      <th>image_src</th>\n",
       "      <th>downloaded</th>\n",
       "      <th>save_location</th>\n",
       "    </tr>\n",
       "  </thead>\n",
       "  <tbody>\n",
       "    <tr>\n",
       "      <th>0</th>\n",
       "      <td>mens-fashion</td>\n",
       "      <td>7528</td>\n",
       "      <td>fbe53c66-3442-4773-b19e-d3ec6f54dddf</td>\n",
       "      <td>No Title Data Available</td>\n",
       "      <td>No description available Story format</td>\n",
       "      <td>User Info Error</td>\n",
       "      <td>N,o, ,T,a,g,s, ,A,v,a,i,l,a,b,l,e</td>\n",
       "      <td>multi-video(story page format)</td>\n",
       "      <td>Image src error.</td>\n",
       "      <td>0</td>\n",
       "      <td>Local save in /data/mens-fashion</td>\n",
       "    </tr>\n",
       "    <tr>\n",
       "      <th>1</th>\n",
       "      <td>diy-and-crafts</td>\n",
       "      <td>2863</td>\n",
       "      <td>9bf39437-42a6-4f02-99a0-9a0383d8cd70</td>\n",
       "      <td>25 Super Fun Summer Crafts for Kids - Of Life ...</td>\n",
       "      <td>Keep the kids busy this summer with these easy...</td>\n",
       "      <td>124k</td>\n",
       "      <td>Summer Crafts For Kids,Fun Crafts For Kids,Sum...</td>\n",
       "      <td>image</td>\n",
       "      <td>https://i.pinimg.com/originals/b3/bc/e2/b3bce2...</td>\n",
       "      <td>1</td>\n",
       "      <td>Local save in /data/diy-and-crafts</td>\n",
       "    </tr>\n",
       "    <tr>\n",
       "      <th>2</th>\n",
       "      <td>finance</td>\n",
       "      <td>5730</td>\n",
       "      <td>1e1f0c8b-9fcf-460b-9154-c775827206eb</td>\n",
       "      <td>Island Oasis Coupon Organizer</td>\n",
       "      <td>Description Coupon Organizer in a fun colorful...</td>\n",
       "      <td>0</td>\n",
       "      <td>Grocery Items,Grocery Coupons,Care Organizatio...</td>\n",
       "      <td>image</td>\n",
       "      <td>https://i.pinimg.com/originals/65/bb/ea/65bbea...</td>\n",
       "      <td>1</td>\n",
       "      <td>Local save in /data/finance</td>\n",
       "    </tr>\n",
       "    <tr>\n",
       "      <th>3</th>\n",
       "      <td>quotes</td>\n",
       "      <td>8304</td>\n",
       "      <td>5b6d0913-25e4-43ab-839d-85d5516f78a4</td>\n",
       "      <td>The #1 Reason You’re Not His Priority Anymore ...</td>\n",
       "      <td>#lovequotes #matchmaker #matchmadeinheaven #lo...</td>\n",
       "      <td>51k</td>\n",
       "      <td>Wise Quotes,Quotable Quotes,Words Quotes,Wise ...</td>\n",
       "      <td>image</td>\n",
       "      <td>https://i.pinimg.com/originals/c6/64/ee/c664ee...</td>\n",
       "      <td>1</td>\n",
       "      <td>Local save in /data/quotes</td>\n",
       "    </tr>\n",
       "    <tr>\n",
       "      <th>4</th>\n",
       "      <td>tattoos</td>\n",
       "      <td>8731</td>\n",
       "      <td>ea760f71-febf-4023-b592-d17396659039</td>\n",
       "      <td>20 Koi Fish Tattoos For Lucky Men</td>\n",
       "      <td>Koi fish tattoos are a popular choice for men ...</td>\n",
       "      <td>211k</td>\n",
       "      <td>Dr Tattoo,Wörter Tattoos,Pisces Tattoos,Tatoo ...</td>\n",
       "      <td>image</td>\n",
       "      <td>https://i.pinimg.com/originals/8a/0c/0a/8a0c0a...</td>\n",
       "      <td>1</td>\n",
       "      <td>Local save in /data/tattoos</td>\n",
       "    </tr>\n",
       "    <tr>\n",
       "      <th>...</th>\n",
       "      <td>...</td>\n",
       "      <td>...</td>\n",
       "      <td>...</td>\n",
       "      <td>...</td>\n",
       "      <td>...</td>\n",
       "      <td>...</td>\n",
       "      <td>...</td>\n",
       "      <td>...</td>\n",
       "      <td>...</td>\n",
       "      <td>...</td>\n",
       "      <td>...</td>\n",
       "    </tr>\n",
       "    <tr>\n",
       "      <th>95</th>\n",
       "      <td>vehicles</td>\n",
       "      <td>10673</td>\n",
       "      <td>ede73169-5b9f-4906-b02e-9db1bee203a4</td>\n",
       "      <td>Discover the new Range Rover luxury performanc...</td>\n",
       "      <td>Shadow Velar</td>\n",
       "      <td>9k</td>\n",
       "      <td>Range Rover Negro,Range Rover Preto,Range Rove...</td>\n",
       "      <td>image</td>\n",
       "      <td>https://i.pinimg.com/originals/5d/c8/87/5dc887...</td>\n",
       "      <td>1</td>\n",
       "      <td>Local save in /data/vehicles</td>\n",
       "    </tr>\n",
       "    <tr>\n",
       "      <th>96</th>\n",
       "      <td>christmas</td>\n",
       "      <td>2060</td>\n",
       "      <td>177dde1a-3409-4865-a533-9f50efaedcd8</td>\n",
       "      <td>50 DIY Decorations for a Jolly Christmas Table...</td>\n",
       "      <td>You'll feel extra merry during your holiday di...</td>\n",
       "      <td>254</td>\n",
       "      <td>Christmas Place Cards,Christmas Names,Christma...</td>\n",
       "      <td>image</td>\n",
       "      <td>https://i.pinimg.com/originals/1a/e4/e0/1ae4e0...</td>\n",
       "      <td>1</td>\n",
       "      <td>Local save in /data/christmas</td>\n",
       "    </tr>\n",
       "    <tr>\n",
       "      <th>97</th>\n",
       "      <td>travel</td>\n",
       "      <td>9487</td>\n",
       "      <td>3bccb05e-f031-477f-9ca4-9be28e5bd542</td>\n",
       "      <td>The Cheapest Countries to Visit Around the World</td>\n",
       "      <td>Are you looking for the cheapest country to vi...</td>\n",
       "      <td>7k</td>\n",
       "      <td>Travel Advice,Travel Guides,Travel Tips,Travel...</td>\n",
       "      <td>image</td>\n",
       "      <td>https://i.pinimg.com/originals/56/10/37/561037...</td>\n",
       "      <td>1</td>\n",
       "      <td>Local save in /data/travel</td>\n",
       "    </tr>\n",
       "    <tr>\n",
       "      <th>98</th>\n",
       "      <td>art</td>\n",
       "      <td>772</td>\n",
       "      <td>49a12516-2c77-445f-b656-4b55b4a69608</td>\n",
       "      <td>5 Pastel Color Palettes for 5 Floral Favorites</td>\n",
       "      <td>Everyone loves flowers for their beautiful sha...</td>\n",
       "      <td>227k</td>\n",
       "      <td>Chalk Pastel Art,Soft Pastel Art,Pastel Artwor...</td>\n",
       "      <td>image</td>\n",
       "      <td>https://i.pinimg.com/originals/e1/eb/e8/e1ebe8...</td>\n",
       "      <td>1</td>\n",
       "      <td>Local save in /data/art</td>\n",
       "    </tr>\n",
       "    <tr>\n",
       "      <th>99</th>\n",
       "      <td>mens-fashion</td>\n",
       "      <td>7510</td>\n",
       "      <td>e09fddda-1cc2-41c8-b799-d238fe90b937</td>\n",
       "      <td>See the Most Stylish Men of New York Fashion Week</td>\n",
       "      <td>10 guys with great style at the spring 2016 sh...</td>\n",
       "      <td>874k</td>\n",
       "      <td>Nyc Mens Fashion,Fashion Mode,Mens Fashion Sui...</td>\n",
       "      <td>image</td>\n",
       "      <td>https://i.pinimg.com/originals/45/3c/fb/453cfb...</td>\n",
       "      <td>1</td>\n",
       "      <td>Local save in /data/mens-fashion</td>\n",
       "    </tr>\n",
       "  </tbody>\n",
       "</table>\n",
       "<p>100 rows × 11 columns</p>\n",
       "</div>"
      ],
      "text/plain": [
       "          category  index                             unique_id  \\\n",
       "0     mens-fashion   7528  fbe53c66-3442-4773-b19e-d3ec6f54dddf   \n",
       "1   diy-and-crafts   2863  9bf39437-42a6-4f02-99a0-9a0383d8cd70   \n",
       "2          finance   5730  1e1f0c8b-9fcf-460b-9154-c775827206eb   \n",
       "3           quotes   8304  5b6d0913-25e4-43ab-839d-85d5516f78a4   \n",
       "4          tattoos   8731  ea760f71-febf-4023-b592-d17396659039   \n",
       "..             ...    ...                                   ...   \n",
       "95        vehicles  10673  ede73169-5b9f-4906-b02e-9db1bee203a4   \n",
       "96       christmas   2060  177dde1a-3409-4865-a533-9f50efaedcd8   \n",
       "97          travel   9487  3bccb05e-f031-477f-9ca4-9be28e5bd542   \n",
       "98             art    772  49a12516-2c77-445f-b656-4b55b4a69608   \n",
       "99    mens-fashion   7510  e09fddda-1cc2-41c8-b799-d238fe90b937   \n",
       "\n",
       "                                                title  \\\n",
       "0                             No Title Data Available   \n",
       "1   25 Super Fun Summer Crafts for Kids - Of Life ...   \n",
       "2                       Island Oasis Coupon Organizer   \n",
       "3   The #1 Reason You’re Not His Priority Anymore ...   \n",
       "4                   20 Koi Fish Tattoos For Lucky Men   \n",
       "..                                                ...   \n",
       "95  Discover the new Range Rover luxury performanc...   \n",
       "96  50 DIY Decorations for a Jolly Christmas Table...   \n",
       "97   The Cheapest Countries to Visit Around the World   \n",
       "98     5 Pastel Color Palettes for 5 Floral Favorites   \n",
       "99  See the Most Stylish Men of New York Fashion Week   \n",
       "\n",
       "                                          description   follower_count  \\\n",
       "0               No description available Story format  User Info Error   \n",
       "1   Keep the kids busy this summer with these easy...             124k   \n",
       "2   Description Coupon Organizer in a fun colorful...                0   \n",
       "3   #lovequotes #matchmaker #matchmadeinheaven #lo...              51k   \n",
       "4   Koi fish tattoos are a popular choice for men ...             211k   \n",
       "..                                                ...              ...   \n",
       "95                                       Shadow Velar               9k   \n",
       "96  You'll feel extra merry during your holiday di...              254   \n",
       "97  Are you looking for the cheapest country to vi...               7k   \n",
       "98  Everyone loves flowers for their beautiful sha...             227k   \n",
       "99  10 guys with great style at the spring 2016 sh...             874k   \n",
       "\n",
       "                                             tag_list  \\\n",
       "0                   N,o, ,T,a,g,s, ,A,v,a,i,l,a,b,l,e   \n",
       "1   Summer Crafts For Kids,Fun Crafts For Kids,Sum...   \n",
       "2   Grocery Items,Grocery Coupons,Care Organizatio...   \n",
       "3   Wise Quotes,Quotable Quotes,Words Quotes,Wise ...   \n",
       "4   Dr Tattoo,Wörter Tattoos,Pisces Tattoos,Tatoo ...   \n",
       "..                                                ...   \n",
       "95  Range Rover Negro,Range Rover Preto,Range Rove...   \n",
       "96  Christmas Place Cards,Christmas Names,Christma...   \n",
       "97  Travel Advice,Travel Guides,Travel Tips,Travel...   \n",
       "98  Chalk Pastel Art,Soft Pastel Art,Pastel Artwor...   \n",
       "99  Nyc Mens Fashion,Fashion Mode,Mens Fashion Sui...   \n",
       "\n",
       "                 is_image_or_video  \\\n",
       "0   multi-video(story page format)   \n",
       "1                            image   \n",
       "2                            image   \n",
       "3                            image   \n",
       "4                            image   \n",
       "..                             ...   \n",
       "95                           image   \n",
       "96                           image   \n",
       "97                           image   \n",
       "98                           image   \n",
       "99                           image   \n",
       "\n",
       "                                            image_src  downloaded  \\\n",
       "0                                    Image src error.           0   \n",
       "1   https://i.pinimg.com/originals/b3/bc/e2/b3bce2...           1   \n",
       "2   https://i.pinimg.com/originals/65/bb/ea/65bbea...           1   \n",
       "3   https://i.pinimg.com/originals/c6/64/ee/c664ee...           1   \n",
       "4   https://i.pinimg.com/originals/8a/0c/0a/8a0c0a...           1   \n",
       "..                                                ...         ...   \n",
       "95  https://i.pinimg.com/originals/5d/c8/87/5dc887...           1   \n",
       "96  https://i.pinimg.com/originals/1a/e4/e0/1ae4e0...           1   \n",
       "97  https://i.pinimg.com/originals/56/10/37/561037...           1   \n",
       "98  https://i.pinimg.com/originals/e1/eb/e8/e1ebe8...           1   \n",
       "99  https://i.pinimg.com/originals/45/3c/fb/453cfb...           1   \n",
       "\n",
       "                         save_location  \n",
       "0     Local save in /data/mens-fashion  \n",
       "1   Local save in /data/diy-and-crafts  \n",
       "2          Local save in /data/finance  \n",
       "3           Local save in /data/quotes  \n",
       "4          Local save in /data/tattoos  \n",
       "..                                 ...  \n",
       "95        Local save in /data/vehicles  \n",
       "96       Local save in /data/christmas  \n",
       "97          Local save in /data/travel  \n",
       "98             Local save in /data/art  \n",
       "99    Local save in /data/mens-fashion  \n",
       "\n",
       "[100 rows x 11 columns]"
      ]
     },
     "execution_count": 6,
     "metadata": {},
     "output_type": "execute_result"
    }
   ],
   "source": [
    "import pandas as pd\n",
    "data_df = pd.DataFrame(data)\n",
    "data_df"
   ]
  },
  {
   "cell_type": "code",
   "execution_count": 7,
   "metadata": {},
   "outputs": [
    {
     "data": {
      "text/plain": [
       "art               13\n",
       "diy-and-crafts    11\n",
       "travel            10\n",
       "beauty             9\n",
       "christmas          9\n",
       "mens-fashion       8\n",
       "tattoos            7\n",
       "vehicles           7\n",
       "education          6\n",
       "finance            5\n",
       "quotes             5\n",
       "event-planning     5\n",
       "home-decor         5\n",
       "Name: category, dtype: int64"
      ]
     },
     "execution_count": 7,
     "metadata": {},
     "output_type": "execute_result"
    }
   ],
   "source": [
    "data_df.category.value_counts()"
   ]
  },
  {
   "cell_type": "code",
   "execution_count": 8,
   "metadata": {},
   "outputs": [
    {
     "data": {
      "text/plain": [
       "No Title Data Available                                                                          2\n",
       "Reinforcing the Difficult Child When Token Boards Don't Work!                                    1\n",
       "Fun Book Page Crafts - MomAdvice                                                                 1\n",
       "10 Watercolor Hacks For Beginners | Tips and Tricks to Making Watercolor Painting Easier         1\n",
       "My master bathroom makeover with @flooranddecor ! Follow me on Instagram @Mojisstyle for more    1\n",
       "                                                                                                ..\n",
       "How to Work From Home as an Event Planner                                                        1\n",
       "Hairstyles & Beauty                                                                              1\n",
       "45 Top Life Quotes School Did Not Teach You                                                      1\n",
       "25 Ultra Sexy Back Tattoo Ideas For Girls                                                        1\n",
       "See the Most Stylish Men of New York Fashion Week                                                1\n",
       "Name: title, Length: 99, dtype: int64"
      ]
     },
     "execution_count": 8,
     "metadata": {},
     "output_type": "execute_result"
    }
   ],
   "source": [
    "data_df.title.value_counts()"
   ]
  },
  {
   "cell_type": "code",
   "execution_count": 13,
   "metadata": {},
   "outputs": [
    {
     "data": {
      "text/plain": [
       "No description available Story format                                                                                                                                                  6\n",
       "Get your personal finance in order with these 8 fr…                                                                                                                                    1\n",
       "Mountain monologue watercolor                                                                                                                                                          1\n",
       "Our family would rather spend time outdoors than indoors. We love nature! That said, sometimes mother nature is uncooperative. On these days, it can be fun to pull out some natu…     1\n",
       "Skin Purging sorgt für die reinste Haut, die du jemals hattest #skin äpurging #skinpurging #skincare #hautpflege #schönehaut #haut #beauty #tips                                       1\n",
       "                                                                                                                                                                                      ..\n",
       "Untitled                                                                                                                                                                               1\n",
       "summcoco gives you inspiration for the women fashion trends you want. Thinking about a new look or lifestyle? This is your ultimate resource to get the hottest trends. 45 Top Li…     1\n",
       "Tattoos are one of the most efficient ways through which one decides to express themselves…                                                                                            1\n",
       "We welcome you to our latest collection of Beautiful Tattoo Ideas For Women. Check out and get inspired by the most beautiful design for yourself.                                     1\n",
       "10 guys with great style at the spring 2016 shows.                                                                                                                                     1\n",
       "Name: description, Length: 95, dtype: int64"
      ]
     },
     "execution_count": 13,
     "metadata": {},
     "output_type": "execute_result"
    }
   ],
   "source": [
    "data_df.description.value_counts()"
   ]
  },
  {
   "cell_type": "code",
   "execution_count": 14,
   "metadata": {},
   "outputs": [
    {
     "data": {
      "text/plain": [
       "9k      4\n",
       "3k      3\n",
       "0       3\n",
       "7k      3\n",
       "28k     2\n",
       "       ..\n",
       "124k    1\n",
       "313     1\n",
       "410k    1\n",
       "112     1\n",
       "874k    1\n",
       "Name: follower_count, Length: 76, dtype: int64"
      ]
     },
     "execution_count": 14,
     "metadata": {},
     "output_type": "execute_result"
    }
   ],
   "source": [
    "data_df.follower_count.value_counts()"
   ]
  },
  {
   "cell_type": "code",
   "execution_count": 15,
   "metadata": {},
   "outputs": [
    {
     "data": {
      "text/plain": [
       "N,o, ,T,a,g,s, ,A,v,a,i,l,a,b,l,e                                                                                                                                                           3\n",
       "Special Education Behavior,Classroom Behavior Management,Behavior Plans,Behaviour Management,Behavior Charts,Behavior Board,Behavior Report,Behavior Analyst,Preschool Special Education    1\n",
       "Harry Potter Wedding,Harry Potter Theme,Wedding Book,Wedding Table,Wedding Ideas,Wedding Vintage,Garden Wedding,Vintage Party,Wedding Paper                                                 1\n",
       "Arte Inspo,Kunst Inspo,Watercolor Artists,Watercolor Ideas,Simple Watercolor,Tattoo Watercolor,Watercolor Techniques,Watercolor Animals,Watercolor Illustration                             1\n",
       "Decor Home Living Room,Home And Living,Diy Bedroom Decor,Home Decor,Bathroom Interior Design,Interior Design Living Room,Dream Home Design,House Design,Beautiful Bathrooms                 1\n",
       "                                                                                                                                                                                           ..\n",
       "1st Year Teachers,First Year Teaching,First Grade Teachers,Elementary Teacher,Montessori Elementary,Teaching Reading,History Teachers,High School Classroom,First Grade Classroom           1\n",
       "Event Planning Tips,Event Planning Business,Party Planning,Business Ideas,Craft Business,Business Chic,Business Inspiration,Business Goals,Business Opportunities                           1\n",
       "Hair Inspo,Hair Inspiration,Motivation Inspiration,Cl Rapper,Foto Glamour,Kreative Portraits,Classy Aesthetic,Pretty Hairstyles,Hair Looks                                                  1\n",
       "Life Quotes Love,Inspirational Quotes About Love,Mood Quotes,Motivational Quotes,Tears Quotes,Quotes About Sadness,Deep Quotes About Life,Quotes Quotes,Quote Life                          1\n",
       "Nyc Mens Fashion,Fashion Mode,Mens Fashion Suits,New York Fashion,Fashion Fashion,Fashion Check,Paris Fashion,Latex Fashion,Fashion Outlet                                                  1\n",
       "Name: tag_list, Length: 98, dtype: int64"
      ]
     },
     "execution_count": 15,
     "metadata": {},
     "output_type": "execute_result"
    }
   ],
   "source": [
    "data_df.tag_list.value_counts()"
   ]
  },
  {
   "cell_type": "code",
   "execution_count": 16,
   "metadata": {},
   "outputs": [
    {
     "data": {
      "text/plain": [
       "image                             88\n",
       "multi-video(story page format)     6\n",
       "video                              6\n",
       "Name: is_image_or_video, dtype: int64"
      ]
     },
     "execution_count": 16,
     "metadata": {},
     "output_type": "execute_result"
    }
   ],
   "source": [
    "data_df.is_image_or_video.value_counts()"
   ]
  },
  {
   "cell_type": "code",
   "execution_count": 17,
   "metadata": {},
   "outputs": [
    {
     "data": {
      "text/plain": [
       "Image src error.                                                                                          2\n",
       "https://i.pinimg.com/originals/24/f9/e2/24f9e22ada4a79c61432ef6c8fe1d0f9.jpg                              1\n",
       "https://i.pinimg.com/originals/17/55/87/175587b334e71c12300453b8b4b4c6aa.jpg                              1\n",
       "https://i.pinimg.com/originals/fd/54/89/fd548935dcb13545120a2115baaa41d9.jpg                              1\n",
       "https://i.pinimg.com/videos/thumbnails/originals/75/48/3b/75483b74822855519ec8b40df4c670ef.0000001.jpg    1\n",
       "                                                                                                         ..\n",
       "https://i.pinimg.com/originals/4d/a3/a4/4da3a4730418239f1b43ce81fb032c15.jpg                              1\n",
       "https://i.pinimg.com/originals/af/c4/59/afc459bd6e1fd8f9aef212504afebf3a.jpg                              1\n",
       "https://i.pinimg.com/originals/bb/c0/e6/bbc0e6a797079505f11ac12bcb0b8c66.jpg                              1\n",
       "https://i.pinimg.com/originals/ab/8e/50/ab8e505b04d4abc8f23e273c15f8a65d.jpg                              1\n",
       "https://i.pinimg.com/originals/45/3c/fb/453cfb4859d0b6730422c75f7b8918ec.jpg                              1\n",
       "Name: image_src, Length: 99, dtype: int64"
      ]
     },
     "execution_count": 17,
     "metadata": {},
     "output_type": "execute_result"
    }
   ],
   "source": [
    "data_df.image_src.value_counts()"
   ]
  },
  {
   "cell_type": "code",
   "execution_count": 18,
   "metadata": {},
   "outputs": [
    {
     "data": {
      "text/plain": [
       "1    98\n",
       "0     2\n",
       "Name: downloaded, dtype: int64"
      ]
     },
     "execution_count": 18,
     "metadata": {},
     "output_type": "execute_result"
    }
   ],
   "source": [
    "data_df.downloaded.value_counts()"
   ]
  },
  {
   "cell_type": "code",
   "execution_count": 20,
   "metadata": {},
   "outputs": [
    {
     "data": {
      "text/plain": [
       "Local save in /data/art               13\n",
       "Local save in /data/diy-and-crafts    11\n",
       "Local save in /data/travel            10\n",
       "Local save in /data/beauty             9\n",
       "Local save in /data/christmas          9\n",
       "Local save in /data/mens-fashion       8\n",
       "Local save in /data/tattoos            7\n",
       "Local save in /data/vehicles           7\n",
       "Local save in /data/education          6\n",
       "Local save in /data/finance            5\n",
       "Local save in /data/quotes             5\n",
       "Local save in /data/event-planning     5\n",
       "Local save in /data/home-decor         5\n",
       "Name: save_location, dtype: int64"
      ]
     },
     "execution_count": 20,
     "metadata": {},
     "output_type": "execute_result"
    }
   ],
   "source": [
    "data_df.save_location.value_counts()"
   ]
  },
  {
   "cell_type": "markdown",
   "metadata": {},
   "source": [
    "### Things we may want to do with the data:\n",
    "- **`title`**: \n",
    "   - Change `No Title Data Available` to `np.nan`\n",
    "- **`description`**: \n",
    "   - Change `No description available Story format` to `np.nan`\n",
    "- **`follower_count`**: \n",
    "   - Change to an integer\n",
    "   - Multiply by 1000 for k, i.e. 9k to 9000\n",
    "- **`tag_list`**:\n",
    "   - Change `N,o, ,T,a,g,s, ,A,v,a,i,l,a,b,l,e` to `np.nan`\n",
    "   - Split tags up into a list\n",
    "- **`image_src`**:\n",
    "   - Change `Image src error.` to `np.nan`\n",
    "- **`downloaded`**:\n",
    "   - Change type to a boolean"
   ]
  }
 ],
 "metadata": {
  "kernelspec": {
   "display_name": "Python 3.10.8 ('pinterest_pipeline')",
   "language": "python",
   "name": "python3"
  },
  "language_info": {
   "codemirror_mode": {
    "name": "ipython",
    "version": 3
   },
   "file_extension": ".py",
   "mimetype": "text/x-python",
   "name": "python",
   "nbconvert_exporter": "python",
   "pygments_lexer": "ipython3",
   "version": "3.10.8"
  },
  "orig_nbformat": 4,
  "vscode": {
   "interpreter": {
    "hash": "95182c13534d7e065f2692f5b5fdfdc2cf7807730323e5a9505162f164d961eb"
   }
  }
 },
 "nbformat": 4,
 "nbformat_minor": 2
}
